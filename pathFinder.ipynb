{
 "cells": [
  {
   "cell_type": "code",
   "execution_count": 1,
   "id": "d566fe65-b4a9-4acb-ac65-cbc5ed1b5ca0",
   "metadata": {},
   "outputs": [
    {
     "name": "stdout",
     "output_type": "stream",
     "text": [
      "Requirement already satisfied: pathfinding in /opt/app-root/lib/python3.8/site-packages (1.0.1)\n"
     ]
    }
   ],
   "source": [
    "!pip install pathfinding"
   ]
  },
  {
   "cell_type": "code",
   "execution_count": 9,
   "id": "ee908cb2-1bce-48b3-80b2-639eaf98cb16",
   "metadata": {},
   "outputs": [],
   "source": [
    "from pathfinding.core.diagonal_movement import DiagonalMovement\n",
    "from pathfinding.core.grid import Grid\n",
    "from pathfinding.finder.a_star import AStarFinder\n",
    "import numpy as np"
   ]
  },
  {
   "cell_type": "code",
   "execution_count": 11,
   "id": "b7b52184-3fd7-4a3f-9d03-21d297f2db6a",
   "metadata": {},
   "outputs": [],
   "source": [
    "def initObjects():\n",
    "    tileSize = 32\n",
    "    gameMap = np.zeros((17,17))\n",
    "    gameMap += 1\n",
    "    gameMap[3:5,12:14] = 0\n",
    "    gameMap[12:14,3:5] = 0\n",
    "    gameMap[2:8, 2:4] = 0\n",
    "    gameMap[2:4, 2:8] = 0\n",
    "\n",
    "    gameMap[13:15, 9:15] = 0\n",
    "    gameMap[9:15, 13:15] = 0\n",
    "\n",
    "    gameMap = gameMap.astype(np.int0)\n",
    "\n",
    "    indexToMap = {(i,j) : (-259 + i*tileSize, 259 - j*tileSize) for i in range(17) for j in range(17)}\n",
    "    mapToIndex = {(-259 + i*tileSize, 259 - j*tileSize) : (i,j) for i in range(17) for j in range(17)}\n",
    "    return gameMap, indexToMap, mapToIndex"
   ]
  },
  {
   "cell_type": "code",
   "execution_count": 33,
   "id": "9352f75b-1c09-4a19-ac5c-e90a0413feef",
   "metadata": {},
   "outputs": [],
   "source": [
    "def AStar(gameMap, startPosition, endPosition):\n",
    "    grid = Grid(matrix=gameMap)\n",
    "    start = grid.node(startPosition[0], startPosition[1])\n",
    "    end = grid.node(endPosition[0], endPosition[1])\n",
    "    finder = AStarFinder(diagonal_movement=DiagonalMovement.only_when_no_obstacle)\n",
    "    path, runs = finder.find_path(start, end, grid)\n",
    "    return path"
   ]
  },
  {
   "cell_type": "code",
   "execution_count": 5,
   "id": "c0b7465b-414d-4530-af7c-5200038f01c4",
   "metadata": {},
   "outputs": [],
   "source": [
    "possibleDirections = {(0,1) : \"UP\",\n",
    "                      (0,-1): \"DOWN\",\n",
    "                      (1, 0): \"RIGHT\",\n",
    "                      (-1,0): \"LEFT\",\n",
    "                      (1,1) : \"DIAUR\",\n",
    "                      (1,-1) : \"DIADR\",\n",
    "                      (-1,1) : \"DIAUL\",\n",
    "                      (-1,-1): \"DIADL\"}\n",
    "def pruningPath(astarPath, pathLen):\n",
    "    astarPath = np.array(astarPath)\n",
    "    waypoints = []\n",
    "    waypoints.append(astarPath[0].tolist())\n",
    "    initialDirection = possibleDirections[tuple((astarPath[1]-astarPath[0]).tolist())]\n",
    "    direction = initialDirection\n",
    "    for i in range(1,pathLen-1):\n",
    "        direction = possibleDirections[tuple((astarPath[i+1]-astarPath[i]).tolist())]\n",
    "        if direction != initialDirection:\n",
    "            waypoints.append(astarPath[i].tolist())\n",
    "            initialDirection = direction\n",
    "    waypoints.append(astarPath[pathLen-1].tolist())\n",
    "    return waypoints"
   ]
  },
  {
   "cell_type": "code",
   "execution_count": 6,
   "id": "9ebc9942-6efa-460c-a4b8-c4b54f6d2be8",
   "metadata": {},
   "outputs": [],
   "source": [
    "def transformingWayPointsIntoVector(waypoints, position):\n",
    "    consecutiveDirection = []\n",
    "    changeDirectionPoint = []\n",
    "    for i in range(len(waypoints)-1):\n",
    "        start = position[tuple(waypoints[i])]\n",
    "        end = position[tuple(waypoints[i+1])]\n",
    "        direction = [end[0]-start[0], end[1]-start[1]]\n",
    "        amplitude = (direction[0]**2 + direction[1]**2)**0.5\n",
    "        normDirection  = [direction[0]/amplitude, direction[1]/amplitude]\n",
    "    \n",
    "        consecutiveDirection.append(normDirection)\n",
    "        changeDirectionPoint.append(end)\n",
    "    \n",
    "    return consecutiveDirection, changeDirectionPoint"
   ]
  },
  {
   "cell_type": "code",
   "execution_count": 17,
   "id": "0ce682bc-c479-4479-b919-ff0098bd7a89",
   "metadata": {},
   "outputs": [],
   "source": [
    "def convertIntoIndex(oldValue):\n",
    "    OldRange = 550  \n",
    "    NewRange = 16  \n",
    "    NewValue = (((oldValue + 275) * NewRange) / OldRange)\n",
    "    return NewValue"
   ]
  },
  {
   "cell_type": "code",
   "execution_count": 35,
   "id": "ed9a6612-8e53-455c-ba25-fa344975ef45",
   "metadata": {},
   "outputs": [],
   "source": [
    "gameMap, indexToMap, mapToIndex = initObjects()\n",
    "\n",
    "def goTo(startPosition, endPosition):\n",
    "    startIndex = [int(convertIntoIndex(startPosition[0])), 16 - int(convertIntoIndex(startPosition[1]))]\n",
    "    endIndex =  [int(convertIntoIndex(endPosition[0])), 16 - int(convertIntoIndex(endPosition[1]))]\n",
    "    aStarPath = AStar(gameMap, startIndex, endIndex)\n",
    "    waypoints = pruningPath(aStarPath, len(aStarPath))\n",
    "    directions = transformingWayPointsIntoVector(waypoints, indexToMap)\n",
    "    return directions\n",
    "    "
   ]
  },
  {
   "cell_type": "code",
   "execution_count": 36,
   "id": "9b75c656-531a-474d-af2c-fb6ed96bae96",
   "metadata": {},
   "outputs": [
    {
     "data": {
      "text/plain": [
       "([[0.7071067811865475, -0.7071067811865475], [1.0, 0.0], [0.0, -1.0]],\n",
       " [(-227, 227), (-3, 227), (-3, 3)])"
      ]
     },
     "execution_count": 36,
     "metadata": {},
     "output_type": "execute_result"
    }
   ],
   "source": [
    "goTo([-275,275], [0,0])"
   ]
  }
 ],
 "metadata": {
  "kernelspec": {
   "display_name": "Python 3 (ipykernel)",
   "language": "python",
   "name": "python3"
  },
  "language_info": {
   "codemirror_mode": {
    "name": "ipython",
    "version": 3
   },
   "file_extension": ".py",
   "mimetype": "text/x-python",
   "name": "python",
   "nbconvert_exporter": "python",
   "pygments_lexer": "ipython3",
   "version": "3.8.8"
  }
 },
 "nbformat": 4,
 "nbformat_minor": 5
}
