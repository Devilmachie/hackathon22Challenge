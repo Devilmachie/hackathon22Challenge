{
 "cells": [
  {
   "cell_type": "code",
   "execution_count": 1,
   "id": "b1defc3f-ba30-4c55-993b-e4c2de280976",
   "metadata": {},
   "outputs": [
    {
     "name": "stdout",
     "output_type": "stream",
     "text": [
      "Collecting install-jdk\n",
      "  Downloading install-jdk-0.3.0.tar.gz (3.8 kB)\n",
      "  Preparing metadata (setup.py) ... \u001b[?25ldone\n",
      "\u001b[?25hBuilding wheels for collected packages: install-jdk\n",
      "  Building wheel for install-jdk (setup.py) ... \u001b[?25ldone\n",
      "\u001b[?25h  Created wheel for install-jdk: filename=install_jdk-0.3.0-py3-none-any.whl size=3741 sha256=873f3258f00cdf751d17f59de6665d95ec22de13e8b42f29e701ca1ec12689b2\n",
      "  Stored in directory: /tmp/pip-ephem-wheel-cache-kjeisrqx/wheels/89/a9/a3/03dc102cdcd442b9bca361f8c64fd4bb9b47ce75d9c8d56c91\n",
      "Successfully built install-jdk\n",
      "Installing collected packages: install-jdk\n",
      "Successfully installed install-jdk-0.3.0\n",
      "\u001b[33mWARNING: You are using pip version 21.3.1; however, version 22.0.4 is available.\n",
      "You should consider upgrading via the '/opt/app-root/bin/python3.8 -m pip install --upgrade pip' command.\u001b[0m\n"
     ]
    }
   ],
   "source": [
    "!pip install install-jdk\n",
    "\n",
    "import jdk\n",
    "import os\n",
    "import json\n",
    "\n",
    "try:\n",
    "    jdk.uninstall('15', jre=True)\n",
    "except Exception:\n",
    "    pass\n",
    "\n",
    "jre_install_path = jdk.install('15', jre=True)"
   ]
  },
  {
   "cell_type": "code",
   "execution_count": 2,
   "id": "85429e8f-5631-4a92-8703-d0366ac99e08",
   "metadata": {},
   "outputs": [],
   "source": [
    "jre_path_dict = {'path': os.path.join(jre_install_path, 'bin', 'java')}\n",
    "\n",
    "with open('jre_path.json', 'w') as file:\n",
    "    json.dump(jre_path_dict, file)"
   ]
  },
  {
   "cell_type": "code",
   "execution_count": 3,
   "id": "2f6e70ed-e5a8-401d-b71e-cfa65993724d",
   "metadata": {},
   "outputs": [
    {
     "name": "stdout",
     "output_type": "stream",
     "text": [
      "/opt/app-root/src/.jre/jdk-15.0.2+7-jre/bin/java\n",
      "openjdk 15.0.2 2021-01-19\n",
      "OpenJDK Runtime Environment AdoptOpenJDK (build 15.0.2+7)\n",
      "OpenJDK 64-Bit Server VM AdoptOpenJDK (build 15.0.2+7, mixed mode, sharing)\n",
      "Sucessfully installed JVM\n"
     ]
    }
   ],
   "source": [
    "import subprocess\n",
    "\n",
    "jre_path_dict = None\n",
    "with open('jre_path.json', 'r') as file:\n",
    "    jre_path_dict = json.load(file)\n",
    "\n",
    "# Path to the java virtual machine executable, necessary to run the challenge server \n",
    "jvm_path = jre_path_dict['path']\n",
    "print(jvm_path)\n",
    "\n",
    "try:\n",
    "    process_result = subprocess.run([jvm_path, '--version'])\n",
    "    assert process_result.returncode == 0\n",
    "    print('Sucessfully installed JVM')\n",
    "except Exception:\n",
    "    print('Failed to install the JVM')"
   ]
  }
 ],
 "metadata": {
  "kernelspec": {
   "display_name": "Python 3 (ipykernel)",
   "language": "python",
   "name": "python3"
  },
  "language_info": {
   "codemirror_mode": {
    "name": "ipython",
    "version": 3
   },
   "file_extension": ".py",
   "mimetype": "text/x-python",
   "name": "python",
   "nbconvert_exporter": "python",
   "pygments_lexer": "ipython3",
   "version": "3.8.8"
  }
 },
 "nbformat": 4,
 "nbformat_minor": 5
}
