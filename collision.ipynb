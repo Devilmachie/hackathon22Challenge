{
 "cells": [
  {
   "cell_type": "code",
   "execution_count": 21,
   "id": "fd46aef8",
   "metadata": {},
   "outputs": [],
   "source": [
    "import numpy as np\n",
    "from PIL import Image"
   ]
  },
  {
   "cell_type": "code",
   "execution_count": 92,
   "id": "021ab8f8",
   "metadata": {
    "scrolled": true
   },
   "outputs": [],
   "source": [
    "# not useful just test\n",
    "# map = np.zeros(shape=(20,20))\n",
    "# map[0] = np.ones(shape=20)\n",
    "# map[-1] = np.ones(shape=20)\n",
    "# map[:,0] = np.ones(shape=20)\n",
    "# map[:,-1] = np.ones(shape=20)\n",
    "# map[4,4:9] = 1\n",
    "# map[4:9,4] = 1\n",
    "# map[11:16,16] = 1\n",
    "# map[16,11:16] = 1\n",
    "# print(map)"
   ]
  },
  {
   "cell_type": "code",
   "execution_count": 93,
   "id": "a32a4713",
   "metadata": {},
   "outputs": [
    {
     "data": {
      "text/plain": [
       "(0, 0, 0)"
      ]
     },
     "execution_count": 93,
     "metadata": {},
     "output_type": "execute_result"
    }
   ],
   "source": [
    "im = Image.open('map.jpg', 'r')\n",
    "width, height = im.size\n",
    "pixel_values = list(im.getdata())\n",
    "\n",
    "#pixel_values = np.array(pixel_values).reshape((width, height, 3))\n",
    "#pixel_values[80,80]\n",
    "x = 80\n",
    "y = 80\n",
    "pixel_values[width*y+x]\n"
   ]
  },
  {
   "cell_type": "code",
   "execution_count": 51,
   "id": "ac650df7",
   "metadata": {},
   "outputs": [],
   "source": [
    "position = [195,70,-1]\n",
    "speed = [0, -300]"
   ]
  },
  {
   "cell_type": "code",
   "execution_count": 62,
   "id": "cf1a3390",
   "metadata": {},
   "outputs": [],
   "source": [
    "im.save('map2.jpg')"
   ]
  },
  {
   "cell_type": "code",
   "execution_count": 86,
   "id": "88bfc635",
   "metadata": {},
   "outputs": [],
   "source": [
    "## doesnt work\n",
    "# im2 = Image.new('RGB', (im.size[0],im.size[1]), \"black\") \n",
    "# im2_pixels = im2.load()\n",
    "\n",
    "# for i in range(im.size[0]):    \n",
    "#     for j in range(im.size[1]):  \n",
    "#         im2_pixels[i,j] = (i, j, 100)"
   ]
  },
  {
   "cell_type": "code",
   "execution_count": 94,
   "id": "aa659555",
   "metadata": {},
   "outputs": [
    {
     "name": "stdout",
     "output_type": "stream",
     "text": [
      "transitive position : 195,70\n",
      "transitive position : 195.0,91.0\n",
      "collision position : 195.0,112.0\n"
     ]
    }
   ],
   "source": [
    "x,y = position[0], position[1] # initial position\n",
    "delta = 0.07 # increment delta for the speed\n",
    "\n",
    "while pixel_values[width*round(y)+round(x)] == (0,0,0):\n",
    "    print(\"transitive position : \" + str(x) + \",\" + str(y))\n",
    "    x += delta*speed[0]\n",
    "    y -= delta*speed[1]\n",
    "    \n",
    "print(\"collision position : \" + str(x) + \",\" + str(y)) #collision position"
   ]
  }
 ],
 "metadata": {
  "kernelspec": {
   "display_name": "Python 3 (ipykernel)",
   "language": "python",
   "name": "python3"
  },
  "language_info": {
   "codemirror_mode": {
    "name": "ipython",
    "version": 3
   },
   "file_extension": ".py",
   "mimetype": "text/x-python",
   "name": "python",
   "nbconvert_exporter": "python",
   "pygments_lexer": "ipython3",
   "version": "3.8.2"
  }
 },
 "nbformat": 4,
 "nbformat_minor": 5
}
